{
 "cells": [
  {
   "cell_type": "markdown",
   "metadata": {},
   "source": [
    "# Kütüphaneleri içe aktar"
   ]
  },
  {
   "cell_type": "code",
   "execution_count": null,
   "metadata": {},
   "outputs": [],
   "source": [
    "from transformers import AutoTokenizer # herhangi bir modelin tokenizer'ını kullanmak için.\n",
    "from zeyrek import MorphAnalyzer # Türkçe metinler için morfolojik analiz ve lemmatizasyon yapmak için kullanılır.\n",
    "from collections import Counter # Kelime sıklığını hesaplamak için kullanılır. Bir listedeki öğelerin sayısını saymayı kolaylaştırır.\n",
    "import nltk # Doğal dil işleme görevleri için kullanılan bir kütüphanedir. Tokenization, stemming gibi işlemler için kullanılabilir.\n",
    "import re # Regular expressions (düzenli ifadeler) kullanarak metin işleme yapmak için. Özellikle tokenization işleminde yardımcı olur."
   ]
  },
  {
   "cell_type": "markdown",
   "metadata": {},
   "source": [
    "## zeyrek kütüphanesinin kullandığı paketi indirme işlemi"
   ]
  },
  {
   "cell_type": "code",
   "execution_count": null,
   "metadata": {},
   "outputs": [],
   "source": [
    "nltk.download('all') #  NLTK (Natural Language Toolkit) kütüphanesinin tüm veri setlerini ve modellerini indirmek için kullanılır."
   ]
  },
  {
   "cell_type": "markdown",
   "metadata": {},
   "source": [
    "# Tokenizer yükleme işlemi"
   ]
  },
  {
   "cell_type": "code",
   "execution_count": 3,
   "metadata": {},
   "outputs": [],
   "source": [
    "# Tokenizer yükleme\n",
    "tokenizer = AutoTokenizer.from_pretrained(\"mattshumer/Reflection-Llama-3.1-70B\")"
   ]
  },
  {
   "cell_type": "markdown",
   "metadata": {},
   "source": [
    "# Zeyrek morfoloji analiz aracını oluşturma"
   ]
  },
  {
   "cell_type": "code",
   "execution_count": 4,
   "metadata": {},
   "outputs": [],
   "source": [
    "\"\"\"\n",
    "MorphAnalyzer, Türkçe kelimelerin morfolojik (yapısını) analizini yapmak için kullanılır.\n",
    "Bu analizör, kelimelerin kök ve eklerini ayırır, kelime türlerini belirler ve\n",
    "kelimelerin farklı çekim formlarını analiz eder. Örneğin, \"kitaplarımızdan\"\n",
    "kelimesini \"kitap\" (kök), \"-lar\" (çoğul eki), \"-ımız\" (iyelik eki) ve\n",
    "\"-dan\" (çıkma hali eki) olarak ayırabilir.\n",
    "\"\"\"\n",
    "analyzer = MorphAnalyzer()"
   ]
  },
  {
   "cell_type": "markdown",
   "metadata": {},
   "source": [
    "# Kullanıcıdan Metin Alma"
   ]
  },
  {
   "cell_type": "code",
   "execution_count": null,
   "metadata": {},
   "outputs": [],
   "source": [
    "# Kullanıcıdan metin alın\n",
    "text = input(\"Lütfen Türkçe bir metin girin: \")\n",
    "print(\"Girdiğiniz metin:\", text)"
   ]
  },
  {
   "cell_type": "markdown",
   "metadata": {},
   "source": [
    "# Tokenizer ile tokenize etme"
   ]
  },
  {
   "cell_type": "code",
   "execution_count": null,
   "metadata": {},
   "outputs": [],
   "source": [
    "# Tokenizer tokenization\n",
    "tokenizer_tokens = tokenizer.tokenize(text)\n",
    "print(\"Tokenizer token'ları:\", tokenizer_tokens)"
   ]
  },
  {
   "cell_type": "code",
   "execution_count": null,
   "metadata": {},
   "outputs": [],
   "source": [
    "original_text = tokenizer.convert_tokens_to_string(tokenizer_tokens)\n",
    "print(\"Orijinal metin:\", original_text)"
   ]
  },
  {
   "cell_type": "markdown",
   "metadata": {},
   "source": [
    "# "
   ]
  },
  {
   "cell_type": "markdown",
   "metadata": {},
   "source": [
    "# Zeyrek ile gövdeleme fonksiyonları"
   ]
  },
  {
   "cell_type": "code",
   "execution_count": 8,
   "metadata": {},
   "outputs": [],
   "source": [
    "# Basit Türkçe kelime ayırıcı fonksiyon\n",
    "def simple_turkish_tokenize(text):\n",
    "    # Bu fonksiyon, verilen Türkçe metni basit bir şekilde token'lara ayırır.\n",
    "    # Adımlar:\n",
    "    # 1. re.sub() kullanarak noktalama işaretlerini ve sayıları ayırır.\n",
    "    # 2. r'([^\\w\\s]|\\d)' regex pattern'i şunları yapar:\n",
    "    #    - [^\\w\\s]: Harf, rakam veya boşluk olmayan herhangi bir karakteri yakalar (noktalama işaretleri)\n",
    "    #    - \\d: Herhangi bir rakamı yakalar\n",
    "    #    - | : \"veya\" anlamına gelir\n",
    "    # 3. r' \\1 ' ile yakalanan karakterlerin etrafına boşluk eklenir\n",
    "    # 4. split() metodu ile metin boşluklara göre ayrılır\n",
    "    # 5. List comprehension ile boş olmayan token'lar seçilir\n",
    "    text = re.sub(r'([^\\w\\s]|\\d)', r' \\1 ', text)\n",
    "    return [token for token in text.split() if token]\n",
    "\n",
    "# Lemma çıkarma fonksiyonu\n",
    "def extract_lemma(analysis):\n",
    "    # Bu fonksiyon, Zeyrek MorphAnalyzer'ın ürettiği analiz sonucundan lemma'yı çıkarır.\n",
    "    # Adımlar:\n",
    "    # 1. analysis'in boş olup olmadığını kontrol eder\n",
    "    # 2. analysis[0]'ın bir liste olup olmadığını kontrol eder\n",
    "    # 3. analysis[0] listesinin boş olup olmadığını kontrol eder\n",
    "    # 4. Tüm koşullar sağlanıyorsa, analysis[0][0].lemma değerini döndürür\n",
    "    # 5. Eğer herhangi bir koşul sağlanmazsa, None döndürür\n",
    "    if analysis and isinstance(analysis[0], list) and analysis[0]:\n",
    "        return analysis[0][0].lemma\n",
    "    return None\n"
   ]
  },
  {
   "cell_type": "markdown",
   "metadata": {},
   "source": [
    "## Zeyrek ile gövdeleme"
   ]
  },
  {
   "cell_type": "code",
   "execution_count": null,
   "metadata": {},
   "outputs": [],
   "source": [
    "# Basit tokenization ve Zeyrek ile lemmatization\n",
    "turkish_tokens = simple_turkish_tokenize(text)\n",
    "zeyrek_lemmas = []\n",
    "for word in turkish_tokens:\n",
    "    analysis = analyzer.analyze(word)\n",
    "    lemma = extract_lemma(analysis)\n",
    "    if lemma:\n",
    "        zeyrek_lemmas.append(lemma)\n",
    "    else:\n",
    "        zeyrek_lemmas.append(word)  # Eğer analiz edilemezse kelimeyi olduğu gibi ekle"
   ]
  },
  {
   "cell_type": "markdown",
   "metadata": {},
   "source": [
    "# Sonuçları yazdırma"
   ]
  },
  {
   "cell_type": "code",
   "execution_count": null,
   "metadata": {},
   "outputs": [],
   "source": [
    "# Sonuçları göster\n",
    "print(\"Tokenizer Tokenization:\", tokenizer_tokens)\n",
    "print(\"Basit Türkçe Tokenization:\", turkish_tokens)\n",
    "print(\"Zeyrek Lemmatization:\", zeyrek_lemmas)"
   ]
  },
  {
   "cell_type": "markdown",
   "metadata": {},
   "source": [
    "# Sıklık yazdırma"
   ]
  },
  {
   "cell_type": "code",
   "execution_count": null,
   "metadata": {},
   "outputs": [],
   "source": [
    "# Kelime sıklığı hesaplama\n",
    "word_freq = Counter(zeyrek_lemmas)\n",
    "print(\"En sık kullanılan 5 kelime (lemma):\", word_freq.most_common(5))"
   ]
  }
 ],
 "metadata": {
  "kernelspec": {
   "display_name": ".venv",
   "language": "python",
   "name": "python3"
  },
  "language_info": {
   "codemirror_mode": {
    "name": "ipython",
    "version": 3
   },
   "file_extension": ".py",
   "mimetype": "text/x-python",
   "name": "python",
   "nbconvert_exporter": "python",
   "pygments_lexer": "ipython3",
   "version": "3.12.3"
  }
 },
 "nbformat": 4,
 "nbformat_minor": 2
}
