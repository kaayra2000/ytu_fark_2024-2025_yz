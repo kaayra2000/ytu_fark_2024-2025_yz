{
 "cells": [
  {
   "cell_type": "markdown",
   "metadata": {},
   "source": [
    "# Kütüphaneleri İçeri Aktarma"
   ]
  },
  {
   "cell_type": "code",
   "execution_count": null,
   "metadata": {},
   "outputs": [],
   "source": [
    "# transformers kütüphanesinden pipeline modülünü içeri aktarma\n",
    "\"\"\"\n",
    "Bu kod, transformers kütüphanesinden pipeline modülünü içeri aktarmaktadır.\n",
    "Pipeline modülü, doğal dil işleme (NLP) görevlerini kolaylaştırmak için kullanılır.\n",
    "Bu görevler arasında metin sınıflandırma, duygu analizi, metin oluşturma, çeviri ve daha fazlası bulunmaktadır.\n",
    "\"\"\"\n",
    "from transformers import pipeline"
   ]
  },
  {
   "cell_type": "markdown",
   "metadata": {},
   "source": [
    "# Analizciyi işleyecek fonksiyon"
   ]
  },
  {
   "cell_type": "code",
   "execution_count": null,
   "metadata": {},
   "outputs": [],
   "source": [
    "def metin_al() -> str:\n",
    "    \"\"\"\n",
    "    Kullanıcıdan metin girişi alan fonksiyon.\n",
    "    \n",
    "    Returns:\n",
    "        str: Kullanıcının girdiği metin\n",
    "    \"\"\"\n",
    "    return input(\"\\nAnaliz edilecek metni girin: \")\n",
    "\"\"\"\n",
    "def metin_ozetle(summarizer, metin):\n",
    "    try:\n",
    "        if len(metin.split()) < 30:\n",
    "            return \"Metin özetleme için çok kısa\"\n",
    "        sonuc = summarizer(metin, max_length=130, min_length=30, do_sample=False)\n",
    "        return sonuc\n",
    "    except Exception as e:\n",
    "        return f\"Hata oluştu: {str(e)}\"\n",
    "\"\"\"\n",
    "def soru_cevapla(qa_pipeline, metin):\n",
    "    try:\n",
    "        sonuc = qa_pipeline({\n",
    "            'question': 'Bu metnin ana konusu nedir?',\n",
    "            'context': metin\n",
    "        })\n",
    "        return sonuc\n",
    "    except Exception as e:\n",
    "        return f\"Hata oluştu: {str(e)}\"\n",
    "    \n",
    "def metin_analiz(analyzer, metin, islem_tipi):\n",
    "    try:\n",
    "        print(\"\\nANALİZ SONUCU:\")\n",
    "        print(f\"Metin: {metin}\")\n",
    "        \n",
    "        if islem_tipi == \"Soru Cevaplama\":\n",
    "            sonuc = soru_cevapla(analyzer, metin)\n",
    "        #elif islem_tipi == \"Özetleme\":\n",
    "        #    sonuc = metin_ozetle(analyzer, metin)\n",
    "        else:\n",
    "            sonuc = analyzer(metin)\n",
    "            \n",
    "        print(f\"Sonuç: {sonuc}\")\n",
    "    except Exception as e:\n",
    "        print(f\"Hata oluştu: {str(e)}\")\n",
    "    print(\"-\" * 50)"
   ]
  },
  {
   "cell_type": "markdown",
   "metadata": {},
   "source": [
    "# huggingface'e giriş yapma"
   ]
  },
  {
   "cell_type": "code",
   "execution_count": null,
   "metadata": {},
   "outputs": [],
   "source": [
    "from huggingface_hub import login, whoami # Hugging Face Hub'a giriş yapmak için gerekli fonksiyonlar\n",
    "\n",
    "# Hugging Face'den aldığınız token'ı buraya yazın\n",
    "# (https://huggingface.co/settings/tokens adresinden alabilirsiniz)\n",
    "token = input(\"Hugging Face token'ınızı girin: \")\n",
    "\n",
    "# Login işlemi\n",
    "login(token=token)\n",
    "user_info = whoami()\n",
    "print(user_info[\"fullname\"], \"olarak giriş yapıldı.\")"
   ]
  },
  {
   "cell_type": "markdown",
   "metadata": {},
   "source": [
    "# Hazır modellerle pipeline oluşturma"
   ]
  },
  {
   "cell_type": "code",
   "execution_count": null,
   "metadata": {},
   "outputs": [],
   "source": [
    "# Modelleri tanımlama\n",
    "duygu_analizi_modeli = \"savasy/bert-base-turkish-sentiment-cased\"  # Duygu analizi için model\n",
    "metin_siniflandirma_modeli = \"dbmdz/bert-base-turkish-cased\"  # Metin sınıflandırma için model\n",
    "ner_modeli = \"savasy/bert-base-turkish-ner-cased\"  # Varlık ismi tanıma için model\n",
    "qa_modeli = \"savasy/bert-base-turkish-squad\"  # Soru cevaplama için model\n",
    "ozetleme_modeli = \"mrm8488/bert2bert_shared-turkish-summarization\"  # Özetleme için model"
   ]
  },
  {
   "cell_type": "code",
   "execution_count": null,
   "metadata": {},
   "outputs": [],
   "source": [
    "# NER Etiketleri ve Açıklamaları:\n",
    "\n",
    "# Organizasyon Etiketleri\n",
    "# B-ORG: \"Beginning of Organization\" - Bir organizasyon/kuruluş isminin başlangıcını belirtir\n",
    "# I-ORG: \"Inside of Organization\" - Organizasyon isminin devam eden kısmını belirtir\n",
    "\n",
    "# Kişi İsimleri Etiketleri\n",
    "# B-PER: \"Beginning of Person\" - Bir kişi isminin başlangıcını belirtir\n",
    "# I-PER: \"Inside of Person\" - Kişi isminin devam eden kısmını belirtir\n",
    "\n",
    "# Lokasyon Etiketleri\n",
    "# B-LOC: \"Beginning of Location\" - Bir konum isminin başlangıcını belirtir\n",
    "# I-LOC: \"Inside of Location\" - Konum isminin devam eden kısmını belirtir\n",
    "\n",
    "# Tarih Etiketleri\n",
    "# B-DATE: \"Beginning of Date\" - Bir tarih ifadesinin başlangıcını belirtir\n",
    "# I-DATE: \"Inside of Date\" - Tarih ifadesinin devam eden kısmını belirtir\n",
    "\n",
    "# Zaman Etiketleri\n",
    "# B-TIME: \"Beginning of Time\" - Bir zaman ifadesinin başlangıcını belirtir\n",
    "# I-TIME: \"Inside of Time\" - Zaman ifadesinin devam eden kısmını belirtir\n",
    "\n",
    "# Para Birimi Etiketleri\n",
    "# B-MONEY: \"Beginning of Money\" - Bir para birimi ifadesinin başlangıcını belirtir\n",
    "# I-MONEY: \"Inside of Money\" - Para birimi ifadesinin devam eden kısmını belirtir\n",
    "\n",
    "# Yüzde/Oran Etiketleri\n",
    "# B-PERCENT: \"Beginning of Percentage\" - Bir yüzde/oran ifadesinin başlangıcını belirtir\n",
    "# I-PERCENT: \"Inside of Percentage\" - Yüzde/oran ifadesinin devam eden kısmını belirtir\n",
    "\n",
    "# Ürün İsimleri Etiketleri\n",
    "# B-PROD: \"Beginning of Product\" - Bir ürün isminin başlangıcını belirtir\n",
    "# I-PROD: \"Inside of Product\" - Ürün isminin devam eden kısmını belirtir\n",
    "\n",
    "# Olay İsimleri Etiketleri\n",
    "# B-EVENT: \"Beginning of Event\" - Bir olay isminin başlangıcını belirtir\n",
    "# I-EVENT: \"Inside of Event\" - Olay isminin devam eden kısmını belirtir\n",
    "\n",
    "# Diğer İsimler\n",
    "# O: \"Outside\" - Herhangi bir varlık kategorisine ait olmayan kelimeler\n",
    "# B-MISC: \"Beginning of Miscellaneous\" - Diğer kategorilere girmeyen özel isimlerin başlangıcı\n",
    "# I-MISC: \"Inside of Miscellaneous\" - Diğer kategorilere girmeyen özel isimlerin devamı"
   ]
  },
  {
   "cell_type": "code",
   "execution_count": null,
   "metadata": {},
   "outputs": [],
   "source": [
    "# Pipeline'ları oluşturma\n",
    "sentiment_analyzer = pipeline(\"sentiment-analysis\", model=duygu_analizi_modeli, return_all_scores=True)\n",
    "text_classifier = pipeline(\"text-classification\", model=metin_siniflandirma_modeli, return_all_scores=True)\n",
    "ner_analyzer = pipeline(\"ner\", model=ner_modeli)\n",
    "qa_pipeline = pipeline(\"question-answering\", model=qa_modeli)\n",
    "# summarization_pipeline = pipeline(\"summarization\", model=ozetleme_modeli, tokenizer=ozetleme_modeli)\n",
    "\n",
    "# Pipeline listesini oluşturma\n",
    "pipeline_list = {\n",
    "    \"Duygu Analizi\": sentiment_analyzer,\n",
    "    \"Metin Sınıflandırma\": text_classifier,\n",
    "    \"Varlık İsmi Tanıma\": ner_analyzer,\n",
    "    \"Soru Cevaplama\": qa_pipeline,\n",
    "    # \"Özetleme\": summarization_pipeline\n",
    "}"
   ]
  },
  {
   "cell_type": "code",
   "execution_count": null,
   "metadata": {},
   "outputs": [],
   "source": [
    "while True:\n",
    "        metin = metin_al()\n",
    "        \n",
    "        if metin.lower() == 'q':\n",
    "            print(\"\\nProgram sonlandırılıyor...\")\n",
    "            break\n",
    "            \n",
    "        for i, (name, analyzer) in enumerate(pipeline_list.items(), 1):\n",
    "            print(f\"{i}. {name}\")\n",
    "            metin_analiz(analyzer, metin, name)"
   ]
  }
 ],
 "metadata": {
  "kernelspec": {
   "display_name": ".venv",
   "language": "python",
   "name": "python3"
  },
  "language_info": {
   "codemirror_mode": {
    "name": "ipython",
    "version": 3
   },
   "file_extension": ".py",
   "mimetype": "text/x-python",
   "name": "python",
   "nbconvert_exporter": "python",
   "pygments_lexer": "ipython3",
   "version": "3.12.3"
  }
 },
 "nbformat": 4,
 "nbformat_minor": 2
}
