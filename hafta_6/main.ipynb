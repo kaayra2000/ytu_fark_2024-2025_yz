{
 "cells": [
  {
   "cell_type": "markdown",
   "metadata": {},
   "source": [
    "# Kütüphaneleri İçeri Aktarma"
   ]
  },
  {
   "cell_type": "code",
   "execution_count": 1,
   "metadata": {},
   "outputs": [],
   "source": [
    "# transformers kütüphanesinden pipeline modülünü içeri aktarma\n",
    "\"\"\"\n",
    "Bu kod, transformers kütüphanesinden pipeline modülünü içeri aktarmaktadır.\n",
    "Pipeline modülü, doğal dil işleme (NLP) görevlerini kolaylaştırmak için kullanılır.\n",
    "Bu görevler arasında metin sınıflandırma, duygu analizi, metin oluşturma, çeviri ve daha fazlası bulunmaktadır.\n",
    "\"\"\"\n",
    "from transformers import pipeline"
   ]
  },
  {
   "cell_type": "markdown",
   "metadata": {},
   "source": [
    "# Analizciyi işleyecek fonksiyon"
   ]
  },
  {
   "cell_type": "code",
   "execution_count": null,
   "metadata": {},
   "outputs": [],
   "source": [
    "def metin_al() -> str:\n",
    "    \"\"\"\n",
    "    Kullanıcıdan metin girişi alan fonksiyon.\n",
    "    \n",
    "    Returns:\n",
    "        str: Kullanıcının girdiği metin\n",
    "    \"\"\"\n",
    "    return input(\"\\nAnaliz edilecek metni girin: \")\n",
    "\"\"\"\n",
    "def metin_ozetle(summarizer, metin):\n",
    "    try:\n",
    "        if len(metin.split()) < 30:\n",
    "            return \"Metin özetleme için çok kısa\"\n",
    "        sonuc = summarizer(metin, max_length=130, min_length=30, do_sample=False)\n",
    "        return sonuc\n",
    "    except Exception as e:\n",
    "        return f\"Hata oluştu: {str(e)}\"\n",
    "\"\"\"\n",
    "def soru_cevapla(qa_pipeline: object, metin: str) -> dict:\n",
    "    \"\"\"\n",
    "    Verilen metin üzerinde soru-cevap işlemi gerçekleştirir.\n",
    "\n",
    "    Args:\n",
    "        qa_pipeline (object): Soru-cevap işlemini gerçekleştirecek pipeline nesnesi\n",
    "        metin (str): Analiz edilecek metin\n",
    "\n",
    "    Returns:\n",
    "        dict: Soru-cevap işleminin sonucunu içeren sözlük\n",
    "        str: Hata durumunda hata mesajı\n",
    "    \"\"\"\n",
    "    try:\n",
    "        sonuc = qa_pipeline({\n",
    "            'question': 'Bu metnin ana konusu nedir?',\n",
    "            'context': metin\n",
    "        })\n",
    "        return sonuc\n",
    "    except Exception as e:\n",
    "        return f\"Hata oluştu: {str(e)}\"\n",
    "\n",
    "def metin_analiz(analyzer: object, metin: str, islem_tipi: str) -> None:\n",
    "    \"\"\"\n",
    "    Verilen metin üzerinde belirtilen analiz işlemini gerçekleştirir ve sonuçları yazdırır.\n",
    "\n",
    "    Args:\n",
    "        analyzer (object): Analiz işlemini gerçekleştirecek nesne\n",
    "        metin (str): Analiz edilecek metin\n",
    "        islem_tipi (str): Gerçekleştirilecek analiz işleminin tipi (\"Soru Cevaplama\" veya diğer)\n",
    "\n",
    "    Returns:\n",
    "        None\n",
    "    \"\"\"\n",
    "    try:\n",
    "        print(\"\\nANALİZ SONUCU:\")\n",
    "        print(f\"Metin: {metin}\")\n",
    "        \n",
    "        # İşlem tipine göre uygun fonksiyonu çağır\n",
    "        if islem_tipi == \"Soru Cevaplama\":\n",
    "            sonuc = soru_cevapla(analyzer, metin)\n",
    "        # Özetleme işlemi şu an devre dışı\n",
    "        #elif islem_tipi == \"Özetleme\":\n",
    "        #    sonuc = metin_ozetle(analyzer, metin)\n",
    "        else:\n",
    "            # Diğer analiz işlemleri için doğrudan analyzer'ı kullan\n",
    "            sonuc = analyzer(metin)\n",
    "            \n",
    "        print(f\"Sonuç: {sonuc}\")\n",
    "    except Exception as e:\n",
    "        print(f\"Hata oluştu: {str(e)}\")\n",
    "    print(\"-\" * 50)"
   ]
  },
  {
   "cell_type": "markdown",
   "metadata": {},
   "source": [
    "# huggingface'e giriş yapma"
   ]
  },
  {
   "cell_type": "code",
   "execution_count": 3,
   "metadata": {},
   "outputs": [
    {
     "name": "stdout",
     "output_type": "stream",
     "text": [
      "kayra bulut olarak giriş yapıldı.\n"
     ]
    }
   ],
   "source": [
    "from huggingface_hub import login, whoami # Hugging Face Hub'a giriş yapmak için gerekli fonksiyonlar\n",
    "\n",
    "# Hugging Face'den aldığınız token'ı buraya yazın\n",
    "# (https://huggingface.co/settings/tokens adresinden alabilirsiniz)\n",
    "token = input(\"Hugging Face token'ınızı girin: \")\n",
    "\n",
    "# Login işlemi\n",
    "login(token=token)\n",
    "user_info = whoami()\n",
    "print(user_info[\"fullname\"], \"olarak giriş yapıldı.\")"
   ]
  },
  {
   "cell_type": "markdown",
   "metadata": {},
   "source": [
    "# Hazır modellerle pipeline oluşturma"
   ]
  },
  {
   "cell_type": "code",
   "execution_count": 4,
   "metadata": {},
   "outputs": [],
   "source": [
    "# Modelleri tanımlama\n",
    "duygu_analizi_modeli = \"savasy/bert-base-turkish-sentiment-cased\"  # Duygu analizi için model\n",
    "metin_siniflandirma_modeli = \"dbmdz/bert-base-turkish-cased\"  # Metin sınıflandırma için model\n",
    "ner_modeli = \"savasy/bert-base-turkish-ner-cased\"  # Varlık ismi tanıma için model\n",
    "qa_modeli = \"savasy/bert-base-turkish-squad\"  # Soru cevaplama için model\n",
    "ozetleme_modeli = \"mrm8488/bert2bert_shared-turkish-summarization\"  # Özetleme için model"
   ]
  },
  {
   "cell_type": "code",
   "execution_count": null,
   "metadata": {},
   "outputs": [],
   "source": [
    "# NER Etiketleri ve Açıklamaları:\n",
    "\n",
    "# Organizasyon Etiketleri\n",
    "# B-ORG: \"Beginning of Organization\" - Bir organizasyon/kuruluş isminin başlangıcını belirtir\n",
    "# I-ORG: \"Inside of Organization\" - Organizasyon isminin devam eden kısmını belirtir\n",
    "\n",
    "# Kişi İsimleri Etiketleri\n",
    "# B-PER: \"Beginning of Person\" - Bir kişi isminin başlangıcını belirtir\n",
    "# I-PER: \"Inside of Person\" - Kişi isminin devam eden kısmını belirtir\n",
    "\n",
    "# Lokasyon Etiketleri\n",
    "# B-LOC: \"Beginning of Location\" - Bir konum isminin başlangıcını belirtir\n",
    "# I-LOC: \"Inside of Location\" - Konum isminin devam eden kısmını belirtir\n",
    "\n",
    "# Tarih Etiketleri\n",
    "# B-DATE: \"Beginning of Date\" - Bir tarih ifadesinin başlangıcını belirtir\n",
    "# I-DATE: \"Inside of Date\" - Tarih ifadesinin devam eden kısmını belirtir\n",
    "\n",
    "# Zaman Etiketleri\n",
    "# B-TIME: \"Beginning of Time\" - Bir zaman ifadesinin başlangıcını belirtir\n",
    "# I-TIME: \"Inside of Time\" - Zaman ifadesinin devam eden kısmını belirtir\n",
    "\n",
    "# Para Birimi Etiketleri\n",
    "# B-MONEY: \"Beginning of Money\" - Bir para birimi ifadesinin başlangıcını belirtir\n",
    "# I-MONEY: \"Inside of Money\" - Para birimi ifadesinin devam eden kısmını belirtir\n",
    "\n",
    "# Yüzde/Oran Etiketleri\n",
    "# B-PERCENT: \"Beginning of Percentage\" - Bir yüzde/oran ifadesinin başlangıcını belirtir\n",
    "# I-PERCENT: \"Inside of Percentage\" - Yüzde/oran ifadesinin devam eden kısmını belirtir\n",
    "\n",
    "# Ürün İsimleri Etiketleri\n",
    "# B-PROD: \"Beginning of Product\" - Bir ürün isminin başlangıcını belirtir\n",
    "# I-PROD: \"Inside of Product\" - Ürün isminin devam eden kısmını belirtir\n",
    "\n",
    "# Olay İsimleri Etiketleri\n",
    "# B-EVENT: \"Beginning of Event\" - Bir olay isminin başlangıcını belirtir\n",
    "# I-EVENT: \"Inside of Event\" - Olay isminin devam eden kısmını belirtir\n",
    "\n",
    "# Diğer İsimler\n",
    "# O: \"Outside\" - Herhangi bir varlık kategorisine ait olmayan kelimeler\n",
    "# B-MISC: \"Beginning of Miscellaneous\" - Diğer kategorilere girmeyen özel isimlerin başlangıcı\n",
    "# I-MISC: \"Inside of Miscellaneous\" - Diğer kategorilere girmeyen özel isimlerin devamı"
   ]
  },
  {
   "cell_type": "code",
   "execution_count": null,
   "metadata": {},
   "outputs": [
    {
     "name": "stderr",
     "output_type": "stream",
     "text": [
      "/home/internet/Desktop/ytu_fark_2024-2025_yz/.venv/lib/python3.12/site-packages/transformers/pipelines/text_classification.py:106: UserWarning: `return_all_scores` is now deprecated,  if want a similar functionality use `top_k=None` instead of `return_all_scores=True` or `top_k=1` instead of `return_all_scores=False`.\n",
      "  warnings.warn(\n",
      "Some weights of BertForSequenceClassification were not initialized from the model checkpoint at dbmdz/bert-base-turkish-cased and are newly initialized: ['classifier.bias', 'classifier.weight']\n",
      "You should probably TRAIN this model on a down-stream task to be able to use it for predictions and inference.\n",
      "Some weights of the model checkpoint at savasy/bert-base-turkish-ner-cased were not used when initializing BertForTokenClassification: ['bert.pooler.dense.bias', 'bert.pooler.dense.weight']\n",
      "- This IS expected if you are initializing BertForTokenClassification from the checkpoint of a model trained on another task or with another architecture (e.g. initializing a BertForSequenceClassification model from a BertForPreTraining model).\n",
      "- This IS NOT expected if you are initializing BertForTokenClassification from the checkpoint of a model that you expect to be exactly identical (initializing a BertForSequenceClassification model from a BertForSequenceClassification model).\n",
      "Some weights of the model checkpoint at savasy/bert-base-turkish-squad were not used when initializing BertForQuestionAnswering: ['bert.pooler.dense.bias', 'bert.pooler.dense.weight']\n",
      "- This IS expected if you are initializing BertForQuestionAnswering from the checkpoint of a model trained on another task or with another architecture (e.g. initializing a BertForSequenceClassification model from a BertForPreTraining model).\n",
      "- This IS NOT expected if you are initializing BertForQuestionAnswering from the checkpoint of a model that you expect to be exactly identical (initializing a BertForSequenceClassification model from a BertForSequenceClassification model).\n"
     ]
    }
   ],
   "source": [
    "# Pipeline'ları oluşturma\n",
    "sentiment_analyzer = pipeline(\"sentiment-analysis\", model=duygu_analizi_modeli, return_all_scores=True)\n",
    "text_classifier = pipeline(\"text-classification\", model=metin_siniflandirma_modeli, return_all_scores=True)\n",
    "ner_analyzer = pipeline(\"ner\", model=ner_modeli)\n",
    "qa_pipeline = pipeline(\"question-answering\", model=qa_modeli)\n",
    "# summarization_pipeline = pipeline(\"summarization\", model=ozetleme_modeli, tokenizer=ozetleme_modeli)\n",
    "\n",
    "# Pipeline listesini oluşturma\n",
    "pipeline_list = {\n",
    "    \"Duygu Analizi\": sentiment_analyzer,\n",
    "    \"Metin Sınıflandırma\": text_classifier,\n",
    "    \"Varlık İsmi Tanıma\": ner_analyzer,\n",
    "    \"Soru Cevaplama\": qa_pipeline,\n",
    "    # \"Özetleme\": summarization_pipeline\n",
    "}"
   ]
  },
  {
   "cell_type": "code",
   "execution_count": 6,
   "metadata": {},
   "outputs": [
    {
     "name": "stdout",
     "output_type": "stream",
     "text": [
      "1. Duygu Analizi\n",
      "\n",
      "ANALİZ SONUCU:\n",
      "Metin:  Dışa aktarma ayarlarını yapılandırın. Bu aşamada, sanal makinenizin hangi bileşenlerinin dahil edileceğini seçebilirsiniz. İleri (Next) butonuna tıklayarak devam edin. Dışa Aktarma İşlemini Tamamlayın: Son adımda, ayarlarınızı gözden geçirin ve Dışa Aktar (Export) butonuna tıklayın. Bu işlem, sanal makinenizi bir OVA dosyası olarak dışa aktaracaktır. Bu adımlar, VirtualBox kullanarak bir OVA dosyası oluşturmanıza yardımcı olacaktır. OVA dosyaları, sanal makinelerin kolayca taşınabilmesi ve başka sistemlerde çalıştırılabilmesi için oldukça kullanışlıdır.\n",
      "Sonuç: [[{'label': 'negative', 'score': 0.1497812569141388}, {'label': 'positive', 'score': 0.8502187728881836}]]\n",
      "--------------------------------------------------\n",
      "2. Metin Sınıflandırma\n",
      "\n",
      "ANALİZ SONUCU:\n",
      "Metin:  Dışa aktarma ayarlarını yapılandırın. Bu aşamada, sanal makinenizin hangi bileşenlerinin dahil edileceğini seçebilirsiniz. İleri (Next) butonuna tıklayarak devam edin. Dışa Aktarma İşlemini Tamamlayın: Son adımda, ayarlarınızı gözden geçirin ve Dışa Aktar (Export) butonuna tıklayın. Bu işlem, sanal makinenizi bir OVA dosyası olarak dışa aktaracaktır. Bu adımlar, VirtualBox kullanarak bir OVA dosyası oluşturmanıza yardımcı olacaktır. OVA dosyaları, sanal makinelerin kolayca taşınabilmesi ve başka sistemlerde çalıştırılabilmesi için oldukça kullanışlıdır.\n",
      "Sonuç: [[{'label': 'LABEL_0', 'score': 0.5287913084030151}, {'label': 'LABEL_1', 'score': 0.4712086617946625}]]\n",
      "--------------------------------------------------\n",
      "3. Varlık İsmi Tanıma\n",
      "\n",
      "ANALİZ SONUCU:\n",
      "Metin:  Dışa aktarma ayarlarını yapılandırın. Bu aşamada, sanal makinenizin hangi bileşenlerinin dahil edileceğini seçebilirsiniz. İleri (Next) butonuna tıklayarak devam edin. Dışa Aktarma İşlemini Tamamlayın: Son adımda, ayarlarınızı gözden geçirin ve Dışa Aktar (Export) butonuna tıklayın. Bu işlem, sanal makinenizi bir OVA dosyası olarak dışa aktaracaktır. Bu adımlar, VirtualBox kullanarak bir OVA dosyası oluşturmanıza yardımcı olacaktır. OVA dosyaları, sanal makinelerin kolayca taşınabilmesi ve başka sistemlerde çalıştırılabilmesi için oldukça kullanışlıdır.\n",
      "Sonuç: [{'entity': 'B-ORG', 'score': np.float32(0.52440834), 'index': 24, 'word': 'İleri', 'start': 124, 'end': 129}, {'entity': 'I-ORG', 'score': np.float32(0.34412658), 'index': 26, 'word': 'Ne', 'start': 131, 'end': 133}, {'entity': 'B-ORG', 'score': np.float32(0.75226814), 'index': 53, 'word': 'Dış', 'start': 246, 'end': 249}, {'entity': 'I-ORG', 'score': np.float32(0.46914026), 'index': 57, 'word': 'Exp', 'start': 258, 'end': 261}, {'entity': 'I-ORG', 'score': np.float32(0.86378044), 'index': 58, 'word': '##ort', 'start': 261, 'end': 264}, {'entity': 'B-ORG', 'score': np.float32(0.69050854), 'index': 71, 'word': 'O', 'start': 316, 'end': 317}, {'entity': 'I-ORG', 'score': np.float32(0.8671621), 'index': 72, 'word': '##V', 'start': 317, 'end': 318}, {'entity': 'I-ORG', 'score': np.float32(0.77645296), 'index': 73, 'word': '##A', 'start': 318, 'end': 319}, {'entity': 'B-ORG', 'score': np.float32(0.85050064), 'index': 83, 'word': 'Vir', 'start': 366, 'end': 369}, {'entity': 'I-ORG', 'score': np.float32(0.9198176), 'index': 84, 'word': '##tu', 'start': 369, 'end': 371}, {'entity': 'I-ORG', 'score': np.float32(0.8385116), 'index': 85, 'word': '##al', 'start': 371, 'end': 373}, {'entity': 'I-ORG', 'score': np.float32(0.86559254), 'index': 86, 'word': '##B', 'start': 373, 'end': 374}, {'entity': 'I-ORG', 'score': np.float32(0.7072308), 'index': 87, 'word': '##ox', 'start': 374, 'end': 376}, {'entity': 'B-ORG', 'score': np.float32(0.6483214), 'index': 90, 'word': 'O', 'start': 392, 'end': 393}, {'entity': 'I-ORG', 'score': np.float32(0.87248605), 'index': 91, 'word': '##V', 'start': 393, 'end': 394}, {'entity': 'I-ORG', 'score': np.float32(0.77532667), 'index': 92, 'word': '##A', 'start': 394, 'end': 395}]\n",
      "--------------------------------------------------\n",
      "4. Soru Cevaplama\n",
      "\n",
      "ANALİZ SONUCU:\n",
      "Metin:  Dışa aktarma ayarlarını yapılandırın. Bu aşamada, sanal makinenizin hangi bileşenlerinin dahil edileceğini seçebilirsiniz. İleri (Next) butonuna tıklayarak devam edin. Dışa Aktarma İşlemini Tamamlayın: Son adımda, ayarlarınızı gözden geçirin ve Dışa Aktar (Export) butonuna tıklayın. Bu işlem, sanal makinenizi bir OVA dosyası olarak dışa aktaracaktır. Bu adımlar, VirtualBox kullanarak bir OVA dosyası oluşturmanıza yardımcı olacaktır. OVA dosyaları, sanal makinelerin kolayca taşınabilmesi ve başka sistemlerde çalıştırılabilmesi için oldukça kullanışlıdır.\n"
     ]
    },
    {
     "name": "stderr",
     "output_type": "stream",
     "text": [
      "/home/internet/Desktop/ytu_fark_2024-2025_yz/.venv/lib/python3.12/site-packages/transformers/pipelines/question_answering.py:391: FutureWarning: Passing a list of SQuAD examples to the pipeline is deprecated and will be removed in v5. Inputs should be passed using the `question` and `context` keyword arguments instead.\n",
      "  warnings.warn(\n"
     ]
    },
    {
     "name": "stdout",
     "output_type": "stream",
     "text": [
      "Sonuç: {'score': 0.0007658902904950082, 'start': 51, 'end': 107, 'answer': 'sanal makinenizin hangi bileşenlerinin dahil edileceğini'}\n",
      "--------------------------------------------------\n",
      "\n",
      "Program sonlandırılıyor...\n"
     ]
    }
   ],
   "source": [
    "while True:\n",
    "        metin = metin_al()\n",
    "        \n",
    "        if metin.lower() == 'q':\n",
    "            print(\"\\nProgram sonlandırılıyor...\")\n",
    "            break\n",
    "            \n",
    "        for i, (name, analyzer) in enumerate(pipeline_list.items(), 1):\n",
    "            print(f\"{i}. {name}\")\n",
    "            metin_analiz(analyzer, metin, name)"
   ]
  }
 ],
 "metadata": {
  "kernelspec": {
   "display_name": ".venv",
   "language": "python",
   "name": "python3"
  },
  "language_info": {
   "codemirror_mode": {
    "name": "ipython",
    "version": 3
   },
   "file_extension": ".py",
   "mimetype": "text/x-python",
   "name": "python",
   "nbconvert_exporter": "python",
   "pygments_lexer": "ipython3",
   "version": "3.12.3"
  }
 },
 "nbformat": 4,
 "nbformat_minor": 2
}
