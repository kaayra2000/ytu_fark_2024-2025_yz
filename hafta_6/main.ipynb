{
 "cells": [
  {
   "cell_type": "markdown",
   "metadata": {},
   "source": [
    "# Kütüphaneleri İçeri Aktarma"
   ]
  },
  {
   "cell_type": "code",
   "execution_count": null,
   "metadata": {},
   "outputs": [],
   "source": [
    "# transformers kütüphanesinden pipeline modülünü içeri aktarma\n",
    "\"\"\"\n",
    "Bu kod, transformers kütüphanesinden pipeline modülünü içeri aktarmaktadır.\n",
    "Pipeline modülü, doğal dil işleme (NLP) görevlerini kolaylaştırmak için kullanılır.\n",
    "Bu görevler arasında metin sınıflandırma, duygu analizi, metin oluşturma, çeviri ve daha fazlası bulunmaktadır.\n",
    "\"\"\"\n",
    "from transformers import pipeline"
   ]
  },
  {
   "cell_type": "markdown",
   "metadata": {},
   "source": [
    "# Analizciyi işleyecek fonksiyon"
   ]
  },
  {
   "cell_type": "code",
   "execution_count": null,
   "metadata": {},
   "outputs": [],
   "source": [
    "def metin_al() -> str:\n",
    "    \"\"\"\n",
    "    Kullanıcıdan metin girişi alan fonksiyon.\n",
    "    \n",
    "    Returns:\n",
    "        str: Kullanıcının girdiği metin\n",
    "    \"\"\"\n",
    "    return input(\"\\nAnaliz edilecek metni girin: \")\n",
    "\n",
    "def metin_analiz(analyzer: any, metin: str) -> None:\n",
    "    \"\"\"\n",
    "    Verilen metni analiz eden fonksiyon.\n",
    "    \n",
    "    Args:\n",
    "        analyzer: Hugging Face pipeline nesnesi\n",
    "        metin: Analiz edilecek metin\n",
    "    \n",
    "    Returns:\n",
    "        None\n",
    "    \"\"\"\n",
    "    try:\n",
    "        # Metni analiz et ve sonucu al\n",
    "        sonuc = analyzer(metin)\n",
    "        \n",
    "        # Sonuçları formatla ve ekrana yazdır\n",
    "        print(\"\\nANALİZ SONUCU:\")\n",
    "        print(f\"Metin: {metin}\")\n",
    "        \n",
    "        # Pipeline türüne göre sonuç formatı değişebilir\n",
    "        if isinstance(sonuc, list):\n",
    "            for s in sonuc:\n",
    "                if isinstance(s, dict):\n",
    "                    for key, value in s.items():\n",
    "                        if isinstance(value, float):\n",
    "                            print(f\"{key}: {value:.4f}\")\n",
    "                        else:\n",
    "                            print(f\"{key}: {value}\")\n",
    "        else:\n",
    "            print(f\"Sonuç: {sonuc}\")\n",
    "        \n",
    "        print(\"-\" * 50)\n",
    "        \n",
    "    except Exception as e:\n",
    "        print(f\"Hata oluştu: {e}\")"
   ]
  },
  {
   "cell_type": "markdown",
   "metadata": {},
   "source": [
    "# huggingface'e giriş yapma"
   ]
  },
  {
   "cell_type": "code",
   "execution_count": null,
   "metadata": {},
   "outputs": [],
   "source": [
    "from huggingface_hub import login, whoami # Hugging Face Hub'a giriş yapmak için gerekli fonksiyonlar\n",
    "\n",
    "# Hugging Face'den aldığınız token'ı buraya yazın\n",
    "# (https://huggingface.co/settings/tokens adresinden alabilirsiniz)\n",
    "token = input(\"Hugging Face token'ınızı girin: \")\n",
    "\n",
    "# Login işlemi\n",
    "login(token=token)\n",
    "user_info = whoami()\n",
    "print(user_info[\"fullname\"], \"olarak giriş yapıldı.\")"
   ]
  },
  {
   "cell_type": "markdown",
   "metadata": {},
   "source": [
    "# Hazır modellerle pipeline oluşturma"
   ]
  },
  {
   "cell_type": "code",
   "execution_count": null,
   "metadata": {},
   "outputs": [],
   "source": [
    "# Modelleri tanımlama\n",
    "duygu_analizi_modeli = \"dbmdz/bert-base-turkish-cased\"  # Duygu analizi için model\n",
    "metin_siniflandirma_modeli = \"dbmdz/bert-base-turkish-cased\"  # Metin sınıflandırma için model (alternatif model bulabilirsiniz)\n",
    "ner_modeli = \"dbmdz/bert-base-turkish-cased\"  # Varlık ismi tanıma için model\n",
    "qa_modeli = \"savasy/bert-base-turkish-squad\"  # Soru cevaplama için model\n",
    "ozetleme_modeli = \"facebook/bart-large-cnn\"  # Özetleme için model\n",
    "\n",
    "# Pipeline'ları oluşturma\n",
    "sentiment_analyzer = pipeline(\"sentiment-analysis\", model=duygu_analizi_modeli)\n",
    "text_classifier = pipeline(\"text-classification\", model=metin_siniflandirma_modeli)\n",
    "ner_analyzer = pipeline(\"ner\", model=ner_modeli)\n",
    "qa_pipeline = pipeline(\"question-answering\", model=qa_modeli)\n",
    "summarization_pipeline = pipeline(\"summarization\", model=ozetleme_modeli)\n",
    "\n",
    "# Pipeline listesini oluşturma\n",
    "pipeline_list = {\n",
    "    \"Duygu Analizi\": sentiment_analyzer,\n",
    "    \"Metin Sınıflandırma\": text_classifier,\n",
    "    \"Varlık İsmi Tanıma\": ner_analyzer,\n",
    "    \"Soru Cevaplama\": qa_pipeline,\n",
    "    \"Özetleme\": summarization_pipeline\n",
    "}"
   ]
  },
  {
   "cell_type": "code",
   "execution_count": null,
   "metadata": {},
   "outputs": [],
   "source": [
    "while True:\n",
    "        metin = metin_al()\n",
    "        \n",
    "        if metin.lower() == 'q':\n",
    "            print(\"\\nProgram sonlandırılıyor...\")\n",
    "            break\n",
    "            \n",
    "        for i, (name, analyzer) in enumerate(pipeline_list.items(), 1):\n",
    "            print(f\"{i}. {name}\")\n",
    "            metin_analiz(analyzer, metin)"
   ]
  }
 ],
 "metadata": {
  "kernelspec": {
   "display_name": ".venv",
   "language": "python",
   "name": "python3"
  },
  "language_info": {
   "codemirror_mode": {
    "name": "ipython",
    "version": 3
   },
   "file_extension": ".py",
   "mimetype": "text/x-python",
   "name": "python",
   "nbconvert_exporter": "python",
   "pygments_lexer": "ipython3",
   "version": "3.12.3"
  }
 },
 "nbformat": 4,
 "nbformat_minor": 2
}
