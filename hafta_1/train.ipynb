{
 "cells": [
  {
   "cell_type": "markdown",
   "metadata": {},
   "source": [
    "# Kütüphaneleri içe aktarma"
   ]
  },
  {
   "cell_type": "code",
   "execution_count": null,
   "metadata": {},
   "outputs": [],
   "source": [
    "import pandas as pd # veri işleme için\n",
    "from sklearn.feature_extraction.text import TfidfVectorizer # metini modelin anlayacağı sayısal değerlere dönüştürmek için\n",
    "from sklearn.linear_model import LinearRegression # yapay zeka modeli\n",
    "import joblib # modeli kaydetmek ve yüklemek için\n",
    "import numpy as np # sayısal işlemler için"
   ]
  },
  {
   "cell_type": "markdown",
   "metadata": {},
   "source": [
    "# Veri kümesi işlemleri"
   ]
  },
  {
   "cell_type": "markdown",
   "metadata": {},
   "source": [
    "## Veri kümesini yerel dosyadan okuma"
   ]
  },
  {
   "cell_type": "code",
   "execution_count": null,
   "metadata": {},
   "outputs": [],
   "source": [
    "# Veri kümesini okuma\n",
    "df = pd.read_csv('turkish_movie_sentiment_dataset.csv')\n",
    "df.head()"
   ]
  },
  {
   "cell_type": "markdown",
   "metadata": {},
   "source": [
    "## Veri kümesinin metin olan sütununu sayıya çevrilebilir hale getirme"
   ]
  },
  {
   "cell_type": "code",
   "execution_count": null,
   "metadata": {},
   "outputs": [],
   "source": [
    "# Puan sütunundaki virgülleri nokta ile değiştirme ve float'a çevirme\n",
    "df['point'] = df['point'].str.replace(',', '.').astype(float)"
   ]
  },
  {
   "cell_type": "code",
   "execution_count": null,
   "metadata": {},
   "outputs": [],
   "source": [
    "df.head()"
   ]
  },
  {
   "cell_type": "markdown",
   "metadata": {},
   "source": [
    "## Veri kümesini karıştırma"
   ]
  },
  {
   "cell_type": "code",
   "execution_count": null,
   "metadata": {},
   "outputs": [],
   "source": [
    "df = df.sample(frac=1, random_state=42).reset_index(drop=True) # veriyi karıştırma"
   ]
  },
  {
   "cell_type": "code",
   "execution_count": null,
   "metadata": {},
   "outputs": [],
   "source": [
    "df.head()"
   ]
  },
  {
   "cell_type": "markdown",
   "metadata": {},
   "source": [
    "# Veriyi sayısallaştırma"
   ]
  },
  {
   "cell_type": "markdown",
   "metadata": {},
   "source": [
    "## Sayısallaştırıcıyı oluşturma\n",
    "trigram tabanlı"
   ]
  },
  {
   "cell_type": "code",
   "execution_count": null,
   "metadata": {},
   "outputs": [],
   "source": [
    " # TF-IDF Vectorizer'ı oluşturma (trigram tabanlı)\n",
    "vectorizer = TfidfVectorizer(ngram_range=(1, 3))"
   ]
  },
  {
   "cell_type": "markdown",
   "metadata": {},
   "source": [
    "## Yorumları sayısallaştırma"
   ]
  },
  {
   "cell_type": "code",
   "execution_count": null,
   "metadata": {},
   "outputs": [],
   "source": [
    "def text_to_vector(text, vectorizer):\n",
    "    # Metni vektöre dönüştür\n",
    "    vector = vectorizer.transform([text])\n",
    "    return vector.toarray()[0]\n",
    "\n",
    "def vector_to_text(vector, vectorizer):\n",
    "    # Vektörü metne dönüştür\n",
    "    feature_names = vectorizer.get_feature_names_out()\n",
    "    non_zero_indices = np.nonzero(vector)[0]\n",
    "    words = [feature_names[i] for i in non_zero_indices]\n",
    "    return ' '.join(words)"
   ]
  },
  {
   "cell_type": "code",
   "execution_count": null,
   "metadata": {},
   "outputs": [],
   "source": [
    " # Eğitim verilerini vektöre dönüştürme\n",
    "X_train_vectorized = vectorizer.fit_transform(df['comment'])"
   ]
  },
  {
   "cell_type": "markdown",
   "metadata": {},
   "source": [
    "## Sayısallaştırmayı test etme"
   ]
  },
  {
   "cell_type": "code",
   "execution_count": null,
   "metadata": {},
   "outputs": [],
   "source": [
    "print(f\"İlk 10 eleman: {vectorizer.get_feature_names_out()[:10]}\")\n",
    "print(f\"Son 10 eleman: {vectorizer.get_feature_names_out()[-10:]}\")"
   ]
  },
  {
   "cell_type": "code",
   "execution_count": null,
   "metadata": {},
   "outputs": [],
   "source": [
    "vector = text_to_vector(\"Ekşın falan izlemek istiyorsanız eğer bunu izlemeyiin\", vectorizer)\n",
    "print(f\"Vektör boyutu: {len(vector)}\")\n",
    "print(f\"Vektörün sıfırdan farklı elemanları: {np.nonzero(vector)}\")"
   ]
  },
  {
   "cell_type": "code",
   "execution_count": null,
   "metadata": {},
   "outputs": [],
   "source": [
    "# Vektörü tekrar metne dönüştür\n",
    "reconstructed_text = vector_to_text(vector, vectorizer)\n",
    "print(f\"Metin: {reconstructed_text}\")"
   ]
  },
  {
   "cell_type": "markdown",
   "metadata": {},
   "source": [
    "# Model Eğitimi"
   ]
  },
  {
   "cell_type": "markdown",
   "metadata": {},
   "source": [
    "## Modeli tanımlama"
   ]
  },
  {
   "cell_type": "code",
   "execution_count": null,
   "metadata": {},
   "outputs": [],
   "source": [
    "# Linear Regression modelini oluşturma ve eğitme\n",
    "model = LinearRegression()"
   ]
  },
  {
   "cell_type": "markdown",
   "metadata": {},
   "source": [
    "## Modeli eğitme\n",
    "yaklaşık 3 dakika"
   ]
  },
  {
   "cell_type": "code",
   "execution_count": null,
   "metadata": {},
   "outputs": [],
   "source": [
    "model.fit(X_train_vectorized, df['point'])"
   ]
  },
  {
   "cell_type": "markdown",
   "metadata": {},
   "source": [
    "## Modeli kaydetme\n",
    "tokenizer ile birlikte"
   ]
  },
  {
   "cell_type": "code",
   "execution_count": null,
   "metadata": {},
   "outputs": [],
   "source": [
    "# Modeli ve vektörleyiciyi kaydetme\n",
    "joblib.dump(model, 'movie_sentiment_model.joblib')\n",
    "joblib.dump(vectorizer, 'movie_sentiment_vectorizer.joblib')\n",
    "\n",
    "print(\"Model ve vektörleyici başarıyla kaydedildi.\")"
   ]
  }
 ],
 "metadata": {
  "kernelspec": {
   "display_name": "Python 3",
   "language": "python",
   "name": "python3"
  },
  "language_info": {
   "codemirror_mode": {
    "name": "ipython",
    "version": 3
   },
   "file_extension": ".py",
   "mimetype": "text/x-python",
   "name": "python",
   "nbconvert_exporter": "python",
   "pygments_lexer": "ipython3",
   "version": "3.12.3"
  }
 },
 "nbformat": 4,
 "nbformat_minor": 2
}
