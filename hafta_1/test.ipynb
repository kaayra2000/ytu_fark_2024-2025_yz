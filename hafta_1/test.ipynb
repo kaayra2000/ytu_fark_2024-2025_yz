{
 "cells": [
  {
   "cell_type": "code",
   "execution_count": null,
   "metadata": {},
   "outputs": [],
   "source": [
    "import joblib # kaydedilen modeli yüklemek için"
   ]
  },
  {
   "cell_type": "markdown",
   "metadata": {},
   "source": [
    "# Modeli okuma"
   ]
  },
  {
   "cell_type": "code",
   "execution_count": null,
   "metadata": {},
   "outputs": [],
   "source": [
    "# Modeli ve vektörleyiciyi yükleme\n",
    "model = joblib.load('movie_sentiment_model.joblib')\n",
    "vectorizer = joblib.load('movie_sentiment_vectorizer.joblib')"
   ]
  },
  {
   "cell_type": "markdown",
   "metadata": {},
   "source": [
    "# Modeli elle test etme"
   ]
  },
  {
   "cell_type": "code",
   "execution_count": null,
   "metadata": {},
   "outputs": [],
   "source": [
    "while True:\n",
    "    # Kullanıcıdan yorum isteme\n",
    "    user_comment = input(\"Film yorumunuzu girin (Çıkmak için 'q' yazın): \")\n",
    "    \n",
    "    if user_comment.lower() == 'q':\n",
    "        break\n",
    "\n",
    "    # Yorumu vektöre dönüştürme ve tahmin yapma\n",
    "    comment_vectorized = vectorizer.transform([user_comment])\n",
    "    predicted_score = model.predict(comment_vectorized)\n",
    "\n",
    "    print(f'Tahmini Puan: {predicted_score[0]:.2f}')"
   ]
  }
 ],
 "metadata": {
  "kernelspec": {
   "display_name": "Python 3",
   "language": "python",
   "name": "python3"
  },
  "language_info": {
   "codemirror_mode": {
    "name": "ipython",
    "version": 3
   },
   "file_extension": ".py",
   "mimetype": "text/x-python",
   "name": "python",
   "nbconvert_exporter": "python",
   "pygments_lexer": "ipython3",
   "version": "3.12.3"
  }
 },
 "nbformat": 4,
 "nbformat_minor": 2
}
