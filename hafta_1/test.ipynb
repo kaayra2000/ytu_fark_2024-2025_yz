{
 "cells": [
  {
   "cell_type": "code",
   "execution_count": null,
   "metadata": {},
   "outputs": [],
   "source": [
    "import joblib"
   ]
  },
  {
   "cell_type": "code",
   "execution_count": null,
   "metadata": {},
   "outputs": [],
   "source": [
    "# Modeli ve vektörleyiciyi yükleme\n",
    "model = joblib.load('movie_sentiment_model.joblib')\n",
    "vectorizer = joblib.load('movie_sentiment_vectorizer.joblib')"
   ]
  },
  {
   "cell_type": "code",
   "execution_count": null,
   "metadata": {},
   "outputs": [],
   "source": [
    "while True:\n",
    "    # Kullanıcıdan yorum isteme\n",
    "    user_comment = input(\"Film yorumunuzu girin (Çıkmak için 'q' yazın): \")\n",
    "    \n",
    "    if user_comment.lower() == 'q':\n",
    "        break\n",
    "\n",
    "    # Yorumu vektöre dönüştürme ve tahmin yapma\n",
    "    comment_vectorized = vectorizer.transform([user_comment])\n",
    "    predicted_score = model.predict(comment_vectorized)\n",
    "\n",
    "    print(f'Tahmini Puan: {predicted_score[0]:.2f}')"
   ]
  }
 ],
 "metadata": {
  "language_info": {
   "name": "python"
  }
 },
 "nbformat": 4,
 "nbformat_minor": 2
}
