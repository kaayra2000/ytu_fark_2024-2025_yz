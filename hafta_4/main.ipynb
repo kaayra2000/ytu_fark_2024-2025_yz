{
 "cells": [
  {
   "cell_type": "markdown",
   "metadata": {},
   "source": [
    "# Kütüphaneleri içe aktarma"
   ]
  },
  {
   "cell_type": "code",
   "execution_count": null,
   "metadata": {},
   "outputs": [],
   "source": [
    "\"\"\"\n",
    "Bu kod parçası, doğal dil işleme ve metin analizi için gerekli kütüphaneleri içe aktarır.\n",
    "\n",
    "- NLTK (Natural Language Toolkit): Doğal dil işleme için kullanılan kapsamlı bir Python kütüphanesidir. \n",
    "  Tokenizasyon, etiketleme, ayrıştırma gibi temel NLP görevleri için araçlar sağlar. [[2]][[6]]\n",
    "\n",
    "- nltk.download('punkt'): NLTK'nin cümle tokenizasyonu için kullanılan 'punkt' veri setini indirir. \n",
    "  Bu, metni cümlelere ayırmak için gereklidir.\n",
    "\n",
    "- TextBlob: Metin işleme görevleri için basit bir API sağlayan bir Python kütüphanesidir. \n",
    "  Duygu analizi, dil algılama, çeviri gibi işlevler sunar.\n",
    "\n",
    "- Word: TextBlob kütüphanesinin bir parçası olup, kelime düzeyinde işlemler (örneğin, lemmatizasyon) \n",
    "  yapmak için kullanılır.\n",
    "\n",
    "Bu kütüphaneler, doğal dil işleme ve metin analizi görevleri için güçlü araçlar sağlar ve \n",
    "birlikte kullanıldıklarında kapsamlı metin analizi uygulamaları geliştirmeye olanak tanır.\n",
    "\"\"\"\n",
    "# Gerekli kütüphaneleri içe aktaralım\n",
    "import nltk  #Doğal dil işleme için kullanılan temel kütüphane\n",
    "nltk.download('punkt')  # NLTK'nin noktalama işaretleri için gerekli veri setini indirir\n",
    "from textblob import TextBlob  # Metin işleme ve duygu analizi için kullanılan kütüphane\n",
    "from textblob import Word  # Kelime düzeyinde işlemler yapmak için kullanılan sınıf\n",
    "print(\"TextBlob kütüphanesi başarıyla içe aktarıldı.\")\n"
   ]
  },
  {
   "cell_type": "markdown",
   "metadata": {},
   "source": []
  },
  {
   "cell_type": "markdown",
   "metadata": {},
   "source": [
    "# Duygu Analizi"
   ]
  },
  {
   "cell_type": "code",
   "execution_count": 22,
   "metadata": {},
   "outputs": [],
   "source": [
    "def analyze_sentiment(text: str) -> str:\n",
    "    \"\"\"\n",
    "    Verilen metni analiz ederek duygu durumunu belirler.\n",
    "\n",
    "    Bu fonksiyon, TextBlob kütüphanesini kullanarak metin üzerinde duygu analizi yapar.\n",
    "    Metnin polaritesine (olumlu veya olumsuz olma derecesi) göre duygu durumunu belirler.\n",
    "\n",
    "    Args:\n",
    "        text (str): Analiz edilecek metin.\n",
    "\n",
    "    Returns:\n",
    "        str: Metnin duygu durumu. \"Pozitif\", \"Negatif\" veya \"Nötr\" değerlerinden birini döndürür.\n",
    "\n",
    "    \"\"\"\n",
    "    blob = TextBlob(text)\n",
    "    polarity = blob.sentiment.polarity\n",
    "    if polarity > 0:\n",
    "        return \"Pozitif\"\n",
    "    elif polarity < 0:\n",
    "        return \"Negatif\"\n",
    "    else:\n",
    "        return \"Nötr\"\n"
   ]
  },
  {
   "cell_type": "code",
   "execution_count": null,
   "metadata": {},
   "outputs": [],
   "source": [
    "print(\"\\n1. Duygu Analizi Örneği:\")\n",
    "sample_texts = [\n",
    "    [\"This movie was absolutely fantastic!\", \"Bu film gerçekten harikaydı!\"],\n",
    "    [\"The weather today is terrible.\", \"Hava bugün çok kötü.\"],\n",
    "    [\"I'm undecided about the book.\", \"Kitap hakkında kararsızım.\"],\n",
    "    [\"The concert last night was mind-blowing!\", \"Dün geceki konser akıl almaz derecede iyiydi!\"],\n",
    "    [\"I'm feeling quite disappointed with the service.\", \"Hizmetten oldukça hayal kırıklığına uğradım.\"],\n",
    "    [\"The new restaurant in town is just okay.\", \"Şehirdeki yeni restoran sadece fena değil.\"],\n",
    "    [\"I absolutely love this new smartphone!\", \"Bu yeni akıllı telefonu kesinlikle çok seviyorum!\"],\n",
    "    [\"The traffic today is making me angry.\", \"Bugünkü trafik beni sinirlendiriyor.\"],\n",
    "    [\"I'm neither excited nor upset about the upcoming event.\", \"Yaklaşan etkinlik hakkında ne heyecanlı ne de üzgünüm.\"]\n",
    "]\n",
    "\n",
    "\"\"\"\n",
    "Bu kod bloğu, duygu analizi örneğini göstermek için kullanılır.\n",
    "\n",
    "- Dokuz farklı örnek metin içeren bir matris oluşturulur.\n",
    "- Her metin için duygu analizi yapılır ve sonuçlar yazdırılır.\n",
    "\n",
    "Örnek metinler çeşitli duygu durumlarını temsil eder:\n",
    "- Pozitif: 1, 4, 7\n",
    "- Negatif: 2, 5, 8\n",
    "- Nötr: 3, 6, 9\n",
    "\n",
    "Bu örnekler, analyze_sentiment fonksiyonunun farklı durumlarda nasıl çalıştığını \n",
    "gösterir ve daha geniş bir duygu yelpazesini kapsar.\n",
    "\"\"\"\n",
    "\n",
    "\"\"\"\n",
    "Bu döngü, her örnek metin için şunları yapar:\n",
    "1. `analyze_sentiment` fonksiyonunu kullanarak İngilizce metnin duygu durumunu belirler.\n",
    "2. İngilizce ve Türkçe metinleri matristen alır.\n",
    "3. Orijinal İngilizce metni ve parantez içinde Türkçe çevirisini yazdırır.\n",
    "4. Belirlenen duygu durumunu yazdırır.\n",
    "5. Görsel ayrım için bir boş satır ekler.\n",
    "\n",
    "Bu genişletilmiş örnek seti, duygu analizi algoritmasının daha geniş bir \n",
    "yelpazedeki ifadeleri nasıl değerlendirdiğini gösterir. Kullanıcılar, farklı \n",
    "ton ve yoğunluktaki ifadelerin nasıl sınıflandırıldığını gözlemleyebilir.\n",
    "\"\"\"\n",
    "\n",
    "for text_pair in sample_texts:\n",
    "    english = text_pair[0]\n",
    "    turkish = text_pair[1]\n",
    "    sentiment = analyze_sentiment(english)\n",
    "    print(f\"Metin: '{english}' (Türkçesi: {turkish})\")\n",
    "    print(f\"Duygu Durumu: {sentiment}\\n\")\n"
   ]
  },
  {
   "cell_type": "markdown",
   "metadata": {},
   "source": [
    "## Posların türkçe anlamlarının tutulduğu liste"
   ]
  },
  {
   "cell_type": "code",
   "execution_count": 24,
   "metadata": {},
   "outputs": [],
   "source": [
    "# İngilizce POS etiketlerini Türkçe karşılıklarıyla eşleştiren bir sözlük\n",
    "pos_turkish = {\n",
    "    'CC': 'Bağlaç',\n",
    "    'CD': 'Sayısal',\n",
    "    'DT': 'Belirteç',\n",
    "    'EX': 'Var/Yok',\n",
    "    'FW': 'Yabancı Kelime',\n",
    "    'IN': 'Edat',\n",
    "    'JJ': 'Sıfat',\n",
    "    'JJR': 'Karşılaştırmalı Sıfat',\n",
    "    'JJS': 'Üstünlük Sıfatı',\n",
    "    'LS': 'Liste İşareti',\n",
    "    'MD': 'Modal Fiil',\n",
    "    'NN': 'İsim',\n",
    "    'NNS': 'Çoğul İsim',\n",
    "    'NNP': 'Özel İsim',\n",
    "    'NNPS': 'Çoğul Özel İsim',\n",
    "    'PDT': 'Ön Belirteç',\n",
    "    'POS': 'İyelik Ekli',\n",
    "    'PRP': 'Zamir',\n",
    "    'PRP$': 'İyelik Zamiri',\n",
    "    'RB': 'Zarf',\n",
    "    'RBR': 'Karşılaştırmalı Zarf',\n",
    "    'RBS': 'Üstünlük Zarfı',\n",
    "    'RP': 'Edat',\n",
    "    'SYM': 'Sembol',\n",
    "    'TO': 'To Edatı',\n",
    "    'UH': 'Ünlem',\n",
    "    'VB': 'Fiil',\n",
    "    'VBD': 'Geçmiş Zaman Fiili',\n",
    "    'VBG': 'Fiilimsi',\n",
    "    'VBN': 'Geçmiş Zaman Fiilimsi',\n",
    "    'VBP': 'Geniş Zaman Fiili',\n",
    "    'VBZ': 'Üçüncü Tekil Şahıs Fiili',\n",
    "    'WDT': 'Soru Belirteci',\n",
    "    'WP': 'Soru Zamiri',\n",
    "    'WP$': 'İyelik Soru Zamiri',\n",
    "    'WRB': 'Soru Zarfı'\n",
    "}"
   ]
  },
  {
   "cell_type": "markdown",
   "metadata": {},
   "source": [
    "## Pos çıkarma işlemi"
   ]
  },
  {
   "cell_type": "code",
   "execution_count": null,
   "metadata": {},
   "outputs": [],
   "source": [
    "print(\"\\n2. POS Tagging Örneği:\")\n",
    "\n",
    "sentence = \"The quick brown fox jumps over the lazy dog.\"\n",
    "blob = TextBlob(sentence)\n",
    "\n",
    "print(f\"Cümle: {sentence}\")\n",
    "print(\"Kelime Türleri:\")\n",
    "for word, pos in blob.tags:\n",
    "    turkish_pos = pos_turkish.get(pos, 'Bilinmeyen')\n",
    "    print(f\"{word}: {turkish_pos}\")"
   ]
  },
  {
   "cell_type": "markdown",
   "metadata": {},
   "source": [
    "# Yazım Hatası Düzeltme"
   ]
  },
  {
   "cell_type": "code",
   "execution_count": null,
   "metadata": {},
   "outputs": [],
   "source": [
    "print(\"\\n3. Yazım Hatası Tespiti ve Düzeltme Örneği:\")\n",
    "\n",
    "# Hatalı yazılmış kelimeler listesi\n",
    "words_with_errors = [\"corect\", \"spellin\", \"errurs\", \"exampel\", \"recieve\", \"definately\", \"adress\", \"occured\", \"untill\", \"seperate\"]\n",
    "\n",
    "for word in words_with_errors:\n",
    "    corrected = Word(word).correct()\n",
    "    print(f\"Hatalı kelime: {word}\")\n",
    "    print(f\"Düzeltilmiş hali: {corrected}\\n\")"
   ]
  },
  {
   "cell_type": "markdown",
   "metadata": {},
   "source": [
    "# Tokenizasyon"
   ]
  },
  {
   "cell_type": "code",
   "execution_count": null,
   "metadata": {},
   "outputs": [],
   "source": [
    "print(\"\\n4. Tokenizasyon Örneği:\")\n",
    "\n",
    "text = \"TextBlob is a Python library for processing textual data. It provides a simple API for diving into common natural language processing (NLP) tasks.\"\n",
    "\n",
    "blob = TextBlob(text)\n",
    "\n",
    "print(\"Kelime Tokenizasyonu:\")\n",
    "print(blob.words)\n",
    "\n",
    "print(\"\\nCümle Tokenizasyonu:\")\n",
    "print(blob.sentences)\n"
   ]
  }
 ],
 "metadata": {
  "kernelspec": {
   "display_name": ".venv",
   "language": "python",
   "name": "python3"
  },
  "language_info": {
   "codemirror_mode": {
    "name": "ipython",
    "version": 3
   },
   "file_extension": ".py",
   "mimetype": "text/x-python",
   "name": "python",
   "nbconvert_exporter": "python",
   "pygments_lexer": "ipython3",
   "version": "3.12.3"
  }
 },
 "nbformat": 4,
 "nbformat_minor": 2
}
