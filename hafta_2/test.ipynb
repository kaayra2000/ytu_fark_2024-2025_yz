{
 "cells": [
  {
   "cell_type": "code",
   "execution_count": 1,
   "metadata": {},
   "outputs": [],
   "source": [
    "import numpy as np # veriyi dizi haline getirmek için\n",
    "import joblib # modeli yüklemek için\n",
    "from sklearn import datasets # veri kümesini okumak için"
   ]
  },
  {
   "cell_type": "markdown",
   "metadata": {},
   "source": [
    "# Veri kümesinin etiketlerini okuma"
   ]
  },
  {
   "cell_type": "code",
   "execution_count": 6,
   "metadata": {},
   "outputs": [
    {
     "data": {
      "text/plain": [
       "array(['setosa', 'versicolor', 'virginica'], dtype='<U10')"
      ]
     },
     "execution_count": 6,
     "metadata": {},
     "output_type": "execute_result"
    }
   ],
   "source": [
    "# Iris veri kümesini yükle (sınıf isimlerini almak için)\n",
    "iris = datasets.load_iris()\n",
    "class_names = iris.target_names\n",
    "class_names"
   ]
  },
  {
   "cell_type": "markdown",
   "metadata": {},
   "source": [
    "# Modeli okuma"
   ]
  },
  {
   "cell_type": "code",
   "execution_count": 3,
   "metadata": {},
   "outputs": [
    {
     "name": "stdout",
     "output_type": "stream",
     "text": [
      "Model yüklendi. Test için hazır.\n"
     ]
    }
   ],
   "source": [
    "model = joblib.load('iris_model.joblib')\n",
    "print(\"Model yüklendi. Test için hazır.\")"
   ]
  },
  {
   "cell_type": "markdown",
   "metadata": {},
   "source": [
    "# Modeli test etme"
   ]
  },
  {
   "cell_type": "code",
   "execution_count": 4,
   "metadata": {},
   "outputs": [
    {
     "name": "stdout",
     "output_type": "stream",
     "text": [
      "\n",
      "Iris çiçeği özelliklerini girin (veya çıkmak için 'q' yazın):\n",
      "Geçersiz giriş. Lütfen dört sayıyı virgülle ayırarak girin.\n",
      "\n",
      "Iris çiçeği özelliklerini girin (veya çıkmak için 'q' yazın):\n",
      "Tahmin edilen Iris türü: versicolor\n",
      "\n",
      "Iris çiçeği özelliklerini girin (veya çıkmak için 'q' yazın):\n",
      "Program sonlandırıldı.\n"
     ]
    }
   ],
   "source": [
    "while True:\n",
    "    print(\"\\nIris çiçeği özelliklerini girin (veya çıkmak için 'q' yazın):\")\n",
    "    \n",
    "    try:\n",
    "        sepal_length = float(input(\"Çanak yaprak uzunluğu (cm) [Tipik aralık: 4.3 - 7.9]: \"))\n",
    "        sepal_width = float(input(\"Çanak yaprak genişliği (cm) [Tipik aralık: 2.0 - 4.4]: \"))\n",
    "        petal_length = float(input(\"Taç yaprak uzunluğu (cm) [Tipik aralık: 1.0 - 6.9]: \"))\n",
    "        petal_width = float(input(\"Taç yaprak genişliği (cm) [Tipik aralık: 0.1 - 2.5]: \"))\n",
    "        \n",
    "        features = np.array([sepal_length, sepal_width, petal_length, petal_width]).reshape(1, -1)\n",
    "        \n",
    "        # Tahmin yap\n",
    "        prediction = model.predict(features)\n",
    "        \n",
    "        print(f\"\\nGirilen özellikler:\")\n",
    "        print(f\"Çanak yaprak uzunluğu: {sepal_length} cm\")\n",
    "        print(f\"Çanak yaprak genişliği: {sepal_width} cm\")\n",
    "        print(f\"Taç yaprak uzunluğu: {petal_length} cm\")\n",
    "        print(f\"Taç yaprak genişliği: {petal_width} cm\")\n",
    "        \n",
    "        print(f\"\\nTahmin edilen Iris türü: {class_names[prediction[0]]}\")\n",
    "        \n",
    "        # Kullanıcıya örnek vermek\n",
    "        print(\"\\nÖrnek giriş değerleri:\")\n",
    "        print(\"Iris setosa için: 5.1, 3.5, 1.4, 0.2\")\n",
    "        print(\"Iris versicolor için: 6.0, 2.7, 4.2, 1.3\")\n",
    "        print(\"Iris virginica için: 6.3, 3.3, 6.0, 2.5\")\n",
    "        \n",
    "    except ValueError:\n",
    "        print(\"Geçersiz giriş. Lütfen sayısal değerler girin.\")\n",
    "    \n",
    "    continue_choice = input(\"\\nBaşka bir tahmin yapmak ister misiniz? (E/H): \")\n",
    "    if continue_choice.lower() != 'e':\n",
    "        break\n",
    "\n",
    "print(\"Program sonlandırıldı.\")\n"
   ]
  }
 ],
 "metadata": {
  "kernelspec": {
   "display_name": ".venv",
   "language": "python",
   "name": "python3"
  },
  "language_info": {
   "codemirror_mode": {
    "name": "ipython",
    "version": 3
   },
   "file_extension": ".py",
   "mimetype": "text/x-python",
   "name": "python",
   "nbconvert_exporter": "python",
   "pygments_lexer": "ipython3",
   "version": "3.12.3"
  }
 },
 "nbformat": 4,
 "nbformat_minor": 2
}
