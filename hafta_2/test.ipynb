{
 "cells": [
  {
   "cell_type": "code",
   "execution_count": null,
   "metadata": {},
   "outputs": [],
   "source": [
    "import numpy as np # veriyi dizi haline getirmek için\n",
    "import joblib # modeli yüklemek için\n",
    "from sklearn import datasets # veri kümesini okumak için"
   ]
  },
  {
   "cell_type": "markdown",
   "metadata": {},
   "source": [
    "# Veri kümesinin etiketlerini okuma"
   ]
  },
  {
   "cell_type": "code",
   "execution_count": null,
   "metadata": {},
   "outputs": [],
   "source": [
    "# Iris veri kümesini yükle (sınıf isimlerini almak için)\n",
    "iris = datasets.load_iris()\n",
    "class_names = iris.target_names\n",
    "class_names"
   ]
  },
  {
   "cell_type": "markdown",
   "metadata": {},
   "source": [
    "# Modelleri okuma"
   ]
  },
  {
   "cell_type": "code",
   "execution_count": null,
   "metadata": {},
   "outputs": [],
   "source": [
    "knn_model = joblib.load('iris_knn_model.joblib')\n",
    "print(\"KNN Modeli yüklendi. Test için hazır.\")"
   ]
  },
  {
   "cell_type": "code",
   "execution_count": null,
   "metadata": {},
   "outputs": [],
   "source": [
    "decision_model = joblib.load('iris_decision_model.joblib')\n",
    "print(\"Decision Model yüklendi. Test için hazır.\")"
   ]
  },
  {
   "cell_type": "markdown",
   "metadata": {},
   "source": [
    "# Modelleri test etme\n",
    "\n",
    "## Iris Çiçek Türlerinin Özellikleri\n",
    "\n",
    "### Iris Setosa\n",
    "\n",
    "- **Çanak yaprak (Sepal):** \n",
    "  - Uzunluk: Kısa (ortalama 5.1 cm)\n",
    "  - Genişlik: Geniş (ortalama 3.5 cm)\n",
    "- **Taç yaprak (Petal):**\n",
    "  - Uzunluk: Çok kısa (ortalama 1.4 cm)\n",
    "  - Genişlik: Çok dar (ortalama 0.2 cm)\n",
    "\n",
    "Özellik: Taç yaprakları diğer türlere göre belirgin şekilde küçüktür.\n",
    "\n",
    "### Iris Versicolor\n",
    "\n",
    "- **Çanak yaprak (Sepal):**\n",
    "  - Uzunluk: Orta (ortalama 6.0 cm)\n",
    "  - Genişlik: Orta (ortalama 2.7 cm)\n",
    "- **Taç yaprak (Petal):**\n",
    "  - Uzunluk: Orta (ortalama 4.2 cm)\n",
    "  - Genişlik: Orta (ortalama 1.3 cm)\n",
    "\n",
    "Özellik: Boyutları genellikle Setosa ve Virginica arasındadır.\n",
    "\n",
    "### Iris Virginica\n",
    "\n",
    "- **Çanak yaprak (Sepal):**\n",
    "  - Uzunluk: Uzun (ortalama 6.3 cm)\n",
    "  - Genişlik: Geniş (ortalama 3.3 cm)\n",
    "- **Taç yaprak (Petal):**\n",
    "  - Uzunluk: Uzun (ortalama 6.0 cm)\n",
    "  - Genişlik: Geniş (ortalama 2.5 cm)\n",
    "\n",
    "Özellik: Genel olarak en büyük boyutlara sahip türdür.\n",
    "\n",
    "### Karşılaştırma\n",
    "\n",
    "1. **Çanak yaprak uzunluğu:** Virginica > Versicolor > Setosa\n",
    "2. **Çanak yaprak genişliği:** Setosa ≈ Virginica > Versicolor\n",
    "3. **Taç yaprak uzunluğu:** Virginica > Versicolor >> Setosa\n",
    "4. **Taç yaprak genişliği:** Virginica > Versicolor >> Setosa\n",
    "\n",
    "Not: Setosa'nın taç yaprakları diğer iki türe göre çok daha küçüktür, bu da onu kolayca ayırt edilebilir kılar.\n"
   ]
  },
  {
   "cell_type": "code",
   "execution_count": null,
   "metadata": {},
   "outputs": [],
   "source": [
    "while True:\n",
    "    print(\"\\nIris çiçeği özelliklerini girin (veya çıkmak için 'q' yazın):\")\n",
    "    \n",
    "    try:\n",
    "        sepal_length = float(input(\"Çanak yaprak uzunluğu (cm) [Tipik aralık: 4.3 - 7.9]: \"))\n",
    "        sepal_width = float(input(\"Çanak yaprak genişliği (cm) [Tipik aralık: 2.0 - 4.4]: \"))\n",
    "        petal_length = float(input(\"Taç yaprak uzunluğu (cm) [Tipik aralık: 1.0 - 6.9]: \"))\n",
    "        petal_width = float(input(\"Taç yaprak genişliği (cm) [Tipik aralık: 0.1 - 2.5]: \"))\n",
    "        \n",
    "        features = np.array([sepal_length, sepal_width, petal_length, petal_width]).reshape(1, -1)\n",
    "        \n",
    "        # Tahmin yap\n",
    "        knn_prediction = knn_model.predict(features)\n",
    "        decision_prediction = decision_model.predict(features)\n",
    "        \n",
    "        print(f\"\\nGirilen özellikler:\")\n",
    "        print(f\"Çanak yaprak uzunluğu: {sepal_length} cm\")\n",
    "        print(f\"Çanak yaprak genişliği: {sepal_width} cm\")\n",
    "        print(f\"Taç yaprak uzunluğu: {petal_length} cm\")\n",
    "        print(f\"Taç yaprak genişliği: {petal_width} cm\")\n",
    "        \n",
    "        print(f\"Tahmin edilen sınıf (KNN): {class_names[knn_prediction[0]]}\")\n",
    "        print(f\"Tahmin edilen sınıf (Decision): {class_names[decision_prediction[0]]}\")\n",
    "        \n",
    "    except ValueError:\n",
    "        break\n",
    "\n",
    "print(\"Program sonlandırıldı.\")\n"
   ]
  }
 ],
 "metadata": {
  "kernelspec": {
   "display_name": ".venv",
   "language": "python",
   "name": "python3"
  },
  "language_info": {
   "codemirror_mode": {
    "name": "ipython",
    "version": 3
   },
   "file_extension": ".py",
   "mimetype": "text/x-python",
   "name": "python",
   "nbconvert_exporter": "python",
   "pygments_lexer": "ipython3",
   "version": "3.12.3"
  }
 },
 "nbformat": 4,
 "nbformat_minor": 2
}
