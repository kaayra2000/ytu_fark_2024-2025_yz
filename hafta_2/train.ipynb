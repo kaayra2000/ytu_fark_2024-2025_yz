{
 "cells": [
  {
   "cell_type": "code",
   "execution_count": null,
   "metadata": {},
   "outputs": [],
   "source": [
    "from sklearn import datasets # veri kümesini yüklemek için\n",
    "from sklearn.tree import DecisionTreeClassifier # karar ağacı modeli oluşturmak için\n",
    "from sklearn.neighbors import KNeighborsClassifier # knn modeli oluşturmak için\n",
    "import joblib # modeli kaydetmek ve yüklemek için\n",
    "import numpy as np # veri işlemleri için"
   ]
  },
  {
   "cell_type": "markdown",
   "metadata": {},
   "source": [
    "# İris Veri Kümesi\n",
    "Makine öğrenmesi ve veri bilimi alanında sıkça kullanılan popüler bir veri kümesidir. Bu veri kümesi, üç farklı Iris çiçeği türünün özelliklerini içerir. Ve [linkten](https://www.kaggle.com/datasets/arshid/iris-flower-dataset) erişilebilir. İşte Iris veri kümesi hakkında temel bilgiler:\n",
    "\n",
    "Veri Seti İçeriği:\n",
    "* Toplam 150 örnek içerir.\n",
    "* Her bir Iris türünden (Iris setosa, Iris virginica ve Iris versicolor) 50'şer örnek bulunur.\n",
    "Özellikler: \n",
    "\n",
    "Her çiçek örneği için 4 özellik ölçülmüştür:\n",
    "* Çanak yaprak uzunluğu (sepal length)\n",
    "* Çanak yaprak genişliği (sepal width)\n",
    "* Taç yaprak uzunluğu (petal length)\n",
    "* Taç yaprak genişliği (petal width)\n",
    "Hedef Değişken:\n",
    "\n",
    "* Çiçeğin türü (3 sınıf: setosa, virginica, versicolor)\n",
    "\n",
    "![İris](iris.png)"
   ]
  },
  {
   "cell_type": "markdown",
   "metadata": {},
   "source": [
    "## Veri kümesini al"
   ]
  },
  {
   "cell_type": "code",
   "execution_count": null,
   "metadata": {},
   "outputs": [],
   "source": [
    "# Iris veri kümesini yükle\n",
    "iris = datasets.load_iris()\n",
    "X = iris.data # özellikler\n",
    "y = iris.target # etiketler\n",
    "iris.target_names # etiket isimleri"
   ]
  },
  {
   "cell_type": "code",
   "execution_count": null,
   "metadata": {},
   "outputs": [],
   "source": [
    "# veri kümesinin eğitim ve test içeriğinin ilk 5 elemanını yazdır\n",
    "X[:5], y[:5]"
   ]
  },
  {
   "cell_type": "markdown",
   "metadata": {},
   "source": [
    "## Veri Kümesini Karıştır"
   ]
  },
  {
   "cell_type": "code",
   "execution_count": null,
   "metadata": {},
   "outputs": [],
   "source": [
    "# Veri kümesinin boyutunu al\n",
    "n_samples = X.shape[0]\n",
    "\n",
    "# Karıştırılmış indeksler oluştur\n",
    "shuffled_indices = np.random.permutation(n_samples)\n",
    "\n",
    "# Veri kümesini karıştır\n",
    "X_shuffled = X[shuffled_indices]\n",
    "y_shuffled = y[shuffled_indices]"
   ]
  },
  {
   "cell_type": "code",
   "execution_count": null,
   "metadata": {},
   "outputs": [],
   "source": [
    "X_shuffled[:5], y_shuffled[:5]"
   ]
  },
  {
   "cell_type": "markdown",
   "metadata": {},
   "source": [
    "# Model eğitme"
   ]
  },
  {
   "cell_type": "code",
   "execution_count": null,
   "metadata": {},
   "outputs": [],
   "source": [
    "# Karar ağacı modelini oluştur\n",
    "decision_tree_model = DecisionTreeClassifier(random_state=42)"
   ]
  },
  {
   "cell_type": "code",
   "execution_count": null,
   "metadata": {},
   "outputs": [],
   "source": [
    "decision_tree_model.fit(X_shuffled, y_shuffled) # modeli eğit"
   ]
  },
  {
   "cell_type": "code",
   "execution_count": null,
   "metadata": {},
   "outputs": [],
   "source": [
    "knn_model = KNeighborsClassifier(n_neighbors=3) # knn modelini oluştur"
   ]
  },
  {
   "cell_type": "code",
   "execution_count": null,
   "metadata": {},
   "outputs": [],
   "source": [
    "knn_model.fit(X, y) # modeli eğit"
   ]
  },
  {
   "cell_type": "markdown",
   "metadata": {},
   "source": [
    "## Modeli Kaydet"
   ]
  },
  {
   "cell_type": "code",
   "execution_count": null,
   "metadata": {},
   "outputs": [],
   "source": [
    "# Modeli kaydet\n",
    "joblib.dump(decision_tree_model, 'iris_decision_model.joblib')\n",
    "\n",
    "print(\"Decision Model tüm veri kullanılarak eğitildi ve kaydedildi.\")"
   ]
  },
  {
   "cell_type": "code",
   "execution_count": null,
   "metadata": {},
   "outputs": [],
   "source": [
    "joblib.dump(knn_model, 'iris_knn_model.joblib')\n",
    "print(\"KNN Model tüm veri kullanılarak eğitildi ve kaydedildi.\")"
   ]
  }
 ],
 "metadata": {
  "kernelspec": {
   "display_name": ".venv",
   "language": "python",
   "name": "python3"
  },
  "language_info": {
   "codemirror_mode": {
    "name": "ipython",
    "version": 3
   },
   "file_extension": ".py",
   "mimetype": "text/x-python",
   "name": "python",
   "nbconvert_exporter": "python",
   "pygments_lexer": "ipython3",
   "version": "3.12.3"
  }
 },
 "nbformat": 4,
 "nbformat_minor": 2
}
